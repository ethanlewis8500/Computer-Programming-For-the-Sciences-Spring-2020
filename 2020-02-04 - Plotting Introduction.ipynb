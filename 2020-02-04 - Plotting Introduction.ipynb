{
 "cells": [
  {
   "cell_type": "code",
   "execution_count": 1,
   "metadata": {},
   "outputs": [
    {
     "name": "stdout",
     "output_type": "stream",
     "text": [
      "Populating the interactive namespace from numpy and matplotlib\n"
     ]
    }
   ],
   "source": [
    "%pylab inline"
   ]
  },
  {
   "cell_type": "markdown",
   "metadata": {},
   "source": [
    "$$\n",
    "\\frac{dy}{dt} = a+b\\sin(c\\cdot t)\n",
    "$$\n",
    "\n",
    "Solution (https://www.wolframalpha.com/input/?i=integrate%28a%2Bb*sin%28c*t%29%2Ct%29):\n",
    "\n",
    "$$\n",
    "y(t)=a t - \\frac{b \\cos(c\\cdot t)}{c} + {\\rm constant}\n",
    "$$"
   ]
  },
  {
   "cell_type": "code",
   "execution_count": 2,
   "metadata": {},
   "outputs": [],
   "source": [
    "y=0\n",
    "t=0\n",
    "a=0.5\n",
    "b=1\n",
    "c=2\n",
    "\n",
    "dt=0.0001\n",
    "\n",
    "maximum_time=20\n",
    "number_of_times_to_repeat=int(maximum_time/dt)\n",
    "\n",
    "y_list=[y]\n",
    "t_list=[t]\n",
    "for i in range(number_of_times_to_repeat):\n",
    "    dy=(a+b*sin(c*t))*dt\n",
    "    y=y+dy\n",
    "    t=t+dt\n",
    "    \n",
    "    y_list.append(y)\n",
    "    t_list.append(t)\n"
   ]
  },
  {
   "cell_type": "code",
   "execution_count": 3,
   "metadata": {},
   "outputs": [
    {
     "data": {
      "text/plain": [
       "Text(0, 0.5, 'y')"
      ]
     },
     "execution_count": 3,
     "metadata": {},
     "output_type": "execute_result"
    },
    {
     "data": {
      "image/png": "[encoded data removed]",
      "text/plain": [
       "<Figure size 432x288 with 1 Axes>"
      ]
     },
     "metadata": {
      "needs_background": "light"
     },
     "output_type": "display_data"
    }
   ],
   "source": [
    "plot(t_list,y_list)\n",
    "xlabel('time')\n",
    "ylabel('y')"
   ]
  },
  {
   "cell_type": "markdown",
   "metadata": {},
   "source": [
    "Things I don't like about this plot:\n",
    "\n",
    "* fonts too small\n",
    "* figure too small\n",
    "* I like grids over no-grids"
   ]
  },
  {
   "cell_type": "code",
   "execution_count": 5,
   "metadata": {},
   "outputs": [],
   "source": [
    "def mydefaults():\n",
    "    from matplotlib import rcParams\n",
    "    \n",
    "    fontsize=20\n",
    "    \n",
    "    rcParams['font.size']=fontsize\n",
    "    rcParams['font.family']='sans-serif'\n",
    "    \n",
    "    rcParams['axes.labelsize']=fontsize\n",
    "    rcParams['axes.titlesize']=fontsize\n",
    "    rcParams['xtick.labelsize']=fontsize\n",
    "    rcParams['ytick.labelsize']=fontsize\n",
    "    rcParams['legend.fontsize']=fontsize\n",
    "\n",
    "    rcParams['figure.figsize']=(12,8)\n",
    "\n",
    "    rcParams['axes.grid']=True\n"
   ]
  },
  {
   "cell_type": "code",
   "execution_count": 6,
   "metadata": {},
   "outputs": [],
   "source": [
    "mydefaults()"
   ]
  },
  {
   "cell_type": "code",
   "execution_count": null,
   "metadata": {},
   "outputs": [],
   "source": []
  }
 ],
 "metadata": {
  "kernelspec": {
   "display_name": "Python 3",
   "language": "python",
   "name": "python3"
  },
  "language_info": {
   "codemirror_mode": {
    "name": "ipython",
    "version": 3
   },
   "file_extension": ".py",
   "mimetype": "text/x-python",
   "name": "python",
   "nbconvert_exporter": "python",
   "pygments_lexer": "ipython3",
   "version": "3.7.4"
  }
 },
 "nbformat": 4,
 "nbformat_minor": 4
}
