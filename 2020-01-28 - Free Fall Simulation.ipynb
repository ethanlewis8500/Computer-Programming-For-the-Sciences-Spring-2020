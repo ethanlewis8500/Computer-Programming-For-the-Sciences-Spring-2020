{
 "cells": [
  {
   "cell_type": "code",
   "execution_count": 1,
   "metadata": {},
   "outputs": [],
   "source": [
    "t=[0.   , 0.062, 0.119, 0.176, 0.236, 0.295, 0.349, 0.409, 0.466,\n",
    "        0.525, 0.577, 0.639, 0.696, 0.756, 0.812, 0.872, 0.929, 0.986,\n",
    "        1.043, 1.097, 1.159, 1.221, 1.278, 1.335]\n",
    "y=[1.197, 1.2  , 1.181, 1.167, 1.128, 1.103, 1.066, 1.03 , 0.997,\n",
    "        0.944, 0.899, 0.846, 0.804, 0.749, 0.69 , 0.637, 0.582, 0.523,\n",
    "        0.47 , 0.403, 0.345, 0.289, 0.225, 0.164]"
   ]
  },
  {
   "cell_type": "code",
   "execution_count": null,
   "metadata": {},
   "outputs": [],
   "source": []
  }
 ],
 "metadata": {
  "kernelspec": {
   "display_name": "Python 3",
   "language": "python",
   "name": "python3"
  },
  "language_info": {
   "codemirror_mode": {
    "name": "ipython",
    "version": 3
   },
   "file_extension": ".py",
   "mimetype": "text/x-python",
   "name": "python",
   "nbconvert_exporter": "python",
   "pygments_lexer": "ipython3",
   "version": "3.7.4"
  }
 },
 "nbformat": 4,
 "nbformat_minor": 4
}
