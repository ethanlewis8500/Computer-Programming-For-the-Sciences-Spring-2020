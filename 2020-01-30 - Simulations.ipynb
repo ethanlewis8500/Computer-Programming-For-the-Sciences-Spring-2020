{
 "cells": [
  {
   "cell_type": "code",
   "execution_count": 26,
   "metadata": {},
   "outputs": [
    {
     "name": "stdout",
     "output_type": "stream",
     "text": [
      "Populating the interactive namespace from numpy and matplotlib\n"
     ]
    }
   ],
   "source": [
    "%pylab inline"
   ]
  },
  {
   "cell_type": "markdown",
   "metadata": {},
   "source": [
    "this text is in markdown syntax.\n",
    "\n",
    "\n",
    "* Differential equations\n",
    "\n",
    "$$\n",
    "\\frac{dn}{dt} = r\\cdot n\n",
    "$$\n",
    "\n",
    "Equations are given in LaTeX format.\n",
    "\n"
   ]
  },
  {
   "cell_type": "code",
   "execution_count": 1,
   "metadata": {},
   "outputs": [
    {
     "name": "stdout",
     "output_type": "stream",
     "text": [
      "here\n",
      "there\n",
      "19.99999999996673 14777964.41846367\n"
     ]
    }
   ],
   "source": [
    "print(\"here\")\n",
    "No=2000000\n",
    "\n",
    "n=No\n",
    "t=0\n",
    "r=0.1\n",
    "dt=0.0001\n",
    "\n",
    "# this a comment for later\n",
    "maximum_time=20\n",
    "number_of_times_to_repeat=int(maximum_time/dt)\n",
    "for i in range(number_of_times_to_repeat):\n",
    "#     print(i)\n",
    "#     print(\"this\")\n",
    "    dn=r*n*dt\n",
    "    n=n+dn\n",
    "    t=t+dt\n",
    "#     print(t,n)\n",
    "    \n",
    "print(\"there\")\n",
    "print(t,n)"
   ]
  },
  {
   "cell_type": "markdown",
   "metadata": {},
   "source": [
    "$$\n",
    "\\frac{dx}{dt} = ax\\cdot (1-x/K)\n",
    "$$\n"
   ]
  },
  {
   "cell_type": "code",
   "execution_count": 4,
   "metadata": {},
   "outputs": [
    {
     "name": "stdout",
     "output_type": "stream",
     "text": [
      "here\n",
      "there\n",
      "19.99999999996673 199.10512137422802\n"
     ]
    }
   ],
   "source": [
    "print(\"here\")\n",
    "No=2\n",
    "\n",
    "x=No\n",
    "t=0\n",
    "a=0.5\n",
    "dt=0.0001\n",
    "K=200\n",
    "\n",
    "# this a comment for later\n",
    "maximum_time=20\n",
    "number_of_times_to_repeat=int(maximum_time/dt)\n",
    "for i in range(number_of_times_to_repeat):\n",
    "#     print(i)\n",
    "#     print(\"this\")\n",
    "    dx=(a*x*(1-x/K))*dt\n",
    "    x=x+dx\n",
    "    t=t+dt\n",
    "    print(t,x)\n",
    "    \n",
    "print(\"there\")\n",
    "print(t,x)"
   ]
  },
  {
   "cell_type": "code",
   "execution_count": 5,
   "metadata": {},
   "outputs": [
    {
     "data": {
      "text/plain": [
       "200000"
      ]
     },
     "execution_count": 5,
     "metadata": {},
     "output_type": "execute_result"
    }
   ],
   "source": [
    "number_of_times_to_repeat"
   ]
  },
  {
   "cell_type": "markdown",
   "metadata": {},
   "source": [
    "# explore lists a little"
   ]
  },
  {
   "cell_type": "code",
   "execution_count": 10,
   "metadata": {},
   "outputs": [],
   "source": [
    "L=[3,-20,35,42]"
   ]
  },
  {
   "cell_type": "code",
   "execution_count": 11,
   "metadata": {},
   "outputs": [
    {
     "data": {
      "text/plain": [
       "[3, -20, 35, 42]"
      ]
     },
     "execution_count": 11,
     "metadata": {},
     "output_type": "execute_result"
    }
   ],
   "source": [
    "L"
   ]
  },
  {
   "cell_type": "code",
   "execution_count": 12,
   "metadata": {},
   "outputs": [],
   "source": [
    "L.append(6)"
   ]
  },
  {
   "cell_type": "code",
   "execution_count": 13,
   "metadata": {},
   "outputs": [
    {
     "data": {
      "text/plain": [
       "[3, -20, 35, 42, 6]"
      ]
     },
     "execution_count": 13,
     "metadata": {},
     "output_type": "execute_result"
    }
   ],
   "source": [
    "L"
   ]
  },
  {
   "cell_type": "code",
   "execution_count": 14,
   "metadata": {},
   "outputs": [
    {
     "data": {
      "text/plain": [
       "42"
      ]
     },
     "execution_count": 14,
     "metadata": {},
     "output_type": "execute_result"
    }
   ],
   "source": [
    "L[3]"
   ]
  },
  {
   "cell_type": "code",
   "execution_count": 15,
   "metadata": {},
   "outputs": [
    {
     "data": {
      "text/plain": [
       "3"
      ]
     },
     "execution_count": 15,
     "metadata": {},
     "output_type": "execute_result"
    }
   ],
   "source": [
    "L[0]"
   ]
  },
  {
   "cell_type": "code",
   "execution_count": 17,
   "metadata": {},
   "outputs": [
    {
     "name": "stdout",
     "output_type": "stream",
     "text": [
      "0\n",
      "1\n",
      "2\n",
      "3\n",
      "4\n",
      "5\n"
     ]
    }
   ],
   "source": [
    "for i in range(5+1):\n",
    "    print(i)"
   ]
  },
  {
   "cell_type": "markdown",
   "metadata": {},
   "source": [
    "add up all numbers from 1 to 100"
   ]
  },
  {
   "cell_type": "code",
   "execution_count": 19,
   "metadata": {},
   "outputs": [
    {
     "name": "stdout",
     "output_type": "stream",
     "text": [
      "5050\n"
     ]
    }
   ],
   "source": [
    "mysum=0\n",
    "for i in range(1,100+1):\n",
    "    #print(i)\n",
    "    mysum=mysum+i\n",
    "    \n",
    "print(mysum)"
   ]
  },
  {
   "cell_type": "code",
   "execution_count": 20,
   "metadata": {},
   "outputs": [
    {
     "data": {
      "text/plain": [
       "[0, 2, 4, 6, 8]"
      ]
     },
     "execution_count": 20,
     "metadata": {},
     "output_type": "execute_result"
    }
   ],
   "source": [
    "x_list=[]\n",
    "for i in range(5):\n",
    "    x_list.append(2*i)\n",
    "    \n",
    "x_list"
   ]
  },
  {
   "cell_type": "markdown",
   "metadata": {},
   "source": [
    "back to the simulation, but keeping x and t"
   ]
  },
  {
   "cell_type": "code",
   "execution_count": 34,
   "metadata": {},
   "outputs": [
    {
     "name": "stdout",
     "output_type": "stream",
     "text": [
      "here\n",
      "there\n",
      "19.99999999996673 99.77804620133432\n"
     ]
    }
   ],
   "source": [
    "print(\"here\")\n",
    "No=2\n",
    "\n",
    "n=No\n",
    "t=0\n",
    "a=0.5\n",
    "dt=0.0001\n",
    "K=100\n",
    "\n",
    "maximum_time=20\n",
    "number_of_times_to_repeat=int(maximum_time/dt)\n",
    "\n",
    "n_list=[n]\n",
    "t_list=[t]\n",
    "for i in range(number_of_times_to_repeat):\n",
    "    dn=(a*n*(1-n/K))*dt\n",
    "    n=n+dn\n",
    "    t=t+dt\n",
    "    \n",
    "    n_list.append(n)\n",
    "    t_list.append(t)\n",
    "    \n",
    "print(\"there\")\n",
    "print(t,n)"
   ]
  },
  {
   "cell_type": "code",
   "execution_count": 35,
   "metadata": {},
   "outputs": [
    {
     "data": {
      "text/plain": [
       "[<matplotlib.lines.Line2D at 0x12021c590>]"
      ]
     },
     "execution_count": 35,
     "metadata": {},
     "output_type": "execute_result"
    },
    {
     "data": {
      "image/png": "[encoded data removed]",
      "text/plain": [
       "<Figure size 432x288 with 1 Axes>"
      ]
     },
     "metadata": {
      "needs_background": "light"
     },
     "output_type": "display_data"
    }
   ],
   "source": [
    "plot(t_list,n_list)"
   ]
  },
  {
   "cell_type": "code",
   "execution_count": 37,
   "metadata": {},
   "outputs": [
    {
     "name": "stdout",
     "output_type": "stream",
     "text": [
      "here\n"
     ]
    },
    {
     "data": {
      "text/plain": [
       "[<matplotlib.lines.Line2D at 0x1213a0ad0>]"
      ]
     },
     "execution_count": 37,
     "metadata": {},
     "output_type": "execute_result"
    },
    {
     "data": {
      "image/png": "[encoded data removed]",
      "text/plain": [
       "<Figure size 432x288 with 1 Axes>"
      ]
     },
     "metadata": {
      "needs_background": "light"
     },
     "output_type": "display_data"
    }
   ],
   "source": [
    "print(\"here\")\n",
    "No=2\n",
    "\n",
    "n=No\n",
    "t=0\n",
    "a=0.5\n",
    "dt=0.0001\n",
    "K=200\n",
    "\n",
    "maximum_time=20\n",
    "number_of_times_to_repeat=int(maximum_time/dt)\n",
    "\n",
    "n_list=[n]\n",
    "t_list=[t]\n",
    "for i in range(number_of_times_to_repeat):\n",
    "    dn=(a*n*(1-n/K))*dt\n",
    "    n=n+dn\n",
    "    t=t+dt\n",
    "    \n",
    "    n_list.append(n)\n",
    "    t_list.append(t)\n",
    "    \n",
    "plot(t_list,n_list)"
   ]
  },
  {
   "cell_type": "markdown",
   "metadata": {},
   "source": [
    "# Another system\n",
    "\n",
    "$$\n",
    "\\frac{dx}{dt} = v\n",
    "$$\n",
    "\n",
    "$$\n",
    "\\frac{dv}{dt} = r\\cdot t\n",
    "$$"
   ]
  },
  {
   "cell_type": "code",
   "execution_count": 38,
   "metadata": {},
   "outputs": [],
   "source": [
    "\n",
    "\n",
    "# initial values of variables\n",
    "t=0\n",
    "x=0\n",
    "v=0\n",
    "\n",
    "# parameters\n",
    "r=8\n",
    "\n",
    "# deal with time\n",
    "dt=0.0001\n",
    "maximum_time=20\n",
    "number_of_times_to_repeat=int(maximum_time/dt)\n",
    "\n",
    "# initial lists for variables\n",
    "x_list=[x]\n",
    "v_list=[v]\n",
    "t_list=[t]\n",
    "for i in range(number_of_times_to_repeat):\n",
    "    # how the variables change\n",
    "    dx=v*dt\n",
    "    dv=r*t*dt\n",
    "    \n",
    "    # update the variable values, and time\n",
    "    x=x+dx\n",
    "    v=v+dv\n",
    "    t=t+dt\n",
    "    \n",
    "    # store the results in a list\n",
    "    x_list.append(x)\n",
    "    v_list.append(v)\n",
    "    t_list.append(t)\n",
    "    \n"
   ]
  },
  {
   "cell_type": "code",
   "execution_count": 39,
   "metadata": {},
   "outputs": [
    {
     "data": {
      "text/plain": [
       "[<matplotlib.lines.Line2D at 0x12305b810>]"
      ]
     },
     "execution_count": 39,
     "metadata": {},
     "output_type": "execute_result"
    },
    {
     "data": {
      "image/png": "[encoded data removed]",
      "text/plain": [
       "<Figure size 432x288 with 1 Axes>"
      ]
     },
     "metadata": {
      "needs_background": "light"
     },
     "output_type": "display_data"
    }
   ],
   "source": [
    "plot(t_list,x_list)"
   ]
  },
  {
   "cell_type": "code",
   "execution_count": 40,
   "metadata": {},
   "outputs": [
    {
     "data": {
      "text/plain": [
       "[<matplotlib.lines.Line2D at 0x1230d5dd0>]"
      ]
     },
     "execution_count": 40,
     "metadata": {},
     "output_type": "execute_result"
    },
    {
     "data": {
      "image/png": "[encoded data removed]",
      "text/plain": [
       "<Figure size 432x288 with 1 Axes>"
      ]
     },
     "metadata": {
      "needs_background": "light"
     },
     "output_type": "display_data"
    }
   ],
   "source": [
    "plot(t_list,v_list)"
   ]
  },
  {
   "cell_type": "code",
   "execution_count": null,
   "metadata": {},
   "outputs": [],
   "source": []
  }
 ],
 "metadata": {
  "kernelspec": {
   "display_name": "Python 3",
   "language": "python",
   "name": "python3"
  },
  "language_info": {
   "codemirror_mode": {
    "name": "ipython",
    "version": 3
   },
   "file_extension": ".py",
   "mimetype": "text/x-python",
   "name": "python",
   "nbconvert_exporter": "python",
   "pygments_lexer": "ipython3",
   "version": "3.7.4"
  }
 },
 "nbformat": 4,
 "nbformat_minor": 4
}
